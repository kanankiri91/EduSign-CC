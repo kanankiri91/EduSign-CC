{
 "cells": [
  {
   "cell_type": "markdown",
   "metadata": {},
   "source": [
    "# Machine Learning Modeling Notebook\n",
    "---"
   ]
  },
  {
   "cell_type": "markdown",
   "metadata": {},
   "source": [
    "## Import Depedencies"
   ]
  },
  {
   "cell_type": "code",
   "execution_count": 12,
   "metadata": {
    "execution": {
     "iopub.execute_input": "2023-05-12T07:36:49.392977Z",
     "iopub.status.busy": "2023-05-12T07:36:49.392637Z",
     "iopub.status.idle": "2023-05-12T07:36:50.145582Z",
     "shell.execute_reply": "2023-05-12T07:36:50.144523Z",
     "shell.execute_reply.started": "2023-05-12T07:36:49.392951Z"
    }
   },
   "outputs": [],
   "source": [
    "import tensorflow as tf\n",
    "import numpy as np\n",
    "import os\n",
    "import matplotlib.pyplot as plt"
   ]
  },
  {
   "cell_type": "code",
   "execution_count": 2,
   "metadata": {
    "execution": {
     "iopub.execute_input": "2023-05-12T07:12:52.023613Z",
     "iopub.status.busy": "2023-05-12T07:12:52.023119Z",
     "iopub.status.idle": "2023-05-12T07:12:52.029798Z",
     "shell.execute_reply": "2023-05-12T07:12:52.028931Z",
     "shell.execute_reply.started": "2023-05-12T07:12:52.023588Z"
    }
   },
   "outputs": [],
   "source": [
    "from tensorflow.keras.models import Sequential\n",
    "from tensorflow.keras import Input\n",
    "from tensorflow.keras.layers import LSTM, Dense, Bidirectional, LayerNormalization, Dropout, Activation"
   ]
  },
  {
   "cell_type": "markdown",
   "metadata": {},
   "source": [
    "## Load Data"
   ]
  },
  {
   "cell_type": "markdown",
   "metadata": {},
   "source": [
    "### Train Data"
   ]
  },
  {
   "cell_type": "code",
   "execution_count": 3,
   "metadata": {
    "execution": {
     "iopub.execute_input": "2023-05-12T07:12:53.542684Z",
     "iopub.status.busy": "2023-05-12T07:12:53.542332Z",
     "iopub.status.idle": "2023-05-12T07:13:11.662776Z",
     "shell.execute_reply": "2023-05-12T07:13:11.661916Z",
     "shell.execute_reply.started": "2023-05-12T07:12:53.542657Z"
    }
   },
   "outputs": [
    {
     "name": "stdout",
     "output_type": "stream",
     "text": [
      "(37790, 30, 354)\n",
      "(37791, 30, 354)\n",
      "(75581, 30, 354)\n"
     ]
    }
   ],
   "source": [
    "x_train_1 = np.load('x_train_1.npy')\n",
    "print(x_train_1.shape)\n",
    "x_train_2 = np.load('x_train_2.npy')\n",
    "print(x_train_2.shape)\n",
    "\n",
    "x_train = np.append(x_train_1, x_train_2, axis=0)\n",
    "del x_train_1\n",
    "del x_train_2\n",
    "\n",
    "print(x_train.shape)"
   ]
  },
  {
   "cell_type": "code",
   "execution_count": 4,
   "metadata": {
    "execution": {
     "iopub.execute_input": "2023-05-12T07:13:11.664491Z",
     "iopub.status.busy": "2023-05-12T07:13:11.664203Z",
     "iopub.status.idle": "2023-05-12T07:13:11.906906Z",
     "shell.execute_reply": "2023-05-12T07:13:11.906109Z",
     "shell.execute_reply.started": "2023-05-12T07:13:11.664471Z"
    }
   },
   "outputs": [
    {
     "data": {
      "text/plain": [
       "(75581, 250)"
      ]
     },
     "execution_count": 4,
     "metadata": {},
     "output_type": "execute_result"
    }
   ],
   "source": [
    "y_train = np.load('y_train.npy')\n",
    "y_train.shape"
   ]
  },
  {
   "cell_type": "markdown",
   "metadata": {},
   "source": [
    "### Validation Data"
   ]
  },
  {
   "cell_type": "code",
   "execution_count": 5,
   "metadata": {
    "execution": {
     "iopub.execute_input": "2023-05-12T07:13:11.908124Z",
     "iopub.status.busy": "2023-05-12T07:13:11.907892Z",
     "iopub.status.idle": "2023-05-12T07:13:13.651729Z",
     "shell.execute_reply": "2023-05-12T07:13:13.650497Z",
     "shell.execute_reply.started": "2023-05-12T07:13:11.908102Z"
    }
   },
   "outputs": [
    {
     "data": {
      "text/plain": [
       "(9448, 30, 354)"
      ]
     },
     "execution_count": 5,
     "metadata": {},
     "output_type": "execute_result"
    }
   ],
   "source": [
    "x_val = np.load('x_val.npy')\n",
    "x_val.shape"
   ]
  },
  {
   "cell_type": "code",
   "execution_count": 6,
   "metadata": {
    "execution": {
     "iopub.execute_input": "2023-05-12T07:13:13.654327Z",
     "iopub.status.busy": "2023-05-12T07:13:13.653737Z",
     "iopub.status.idle": "2023-05-12T07:13:13.715868Z",
     "shell.execute_reply": "2023-05-12T07:13:13.714931Z",
     "shell.execute_reply.started": "2023-05-12T07:13:13.654292Z"
    }
   },
   "outputs": [
    {
     "data": {
      "text/plain": [
       "(9448, 250)"
      ]
     },
     "execution_count": 6,
     "metadata": {},
     "output_type": "execute_result"
    }
   ],
   "source": [
    "y_val = np.load('y_val.npy')\n",
    "y_val.shape"
   ]
  },
  {
   "cell_type": "markdown",
   "metadata": {},
   "source": [
    "### Test Data\n",
    "> **Important:** To save memory usage when training the model, load only the test data later when testing the model."
   ]
  },
  {
   "cell_type": "code",
   "execution_count": null,
   "metadata": {},
   "outputs": [],
   "source": [
    "x_test = np.load('x_test.npy')\n",
    "x_test.shape"
   ]
  },
  {
   "cell_type": "code",
   "execution_count": null,
   "metadata": {},
   "outputs": [],
   "source": [
    "y_test = np.load('y_test.npy')\n",
    "y_test.shape"
   ]
  },
  {
   "cell_type": "markdown",
   "metadata": {},
   "source": [
    "## Parameters"
   ]
  },
  {
   "cell_type": "code",
   "execution_count": 7,
   "metadata": {
    "execution": {
     "iopub.execute_input": "2023-05-12T07:13:13.717606Z",
     "iopub.status.busy": "2023-05-12T07:13:13.717299Z",
     "iopub.status.idle": "2023-05-12T07:13:13.722435Z",
     "shell.execute_reply": "2023-05-12T07:13:13.721492Z",
     "shell.execute_reply.started": "2023-05-12T07:13:13.717583Z"
    }
   },
   "outputs": [],
   "source": [
    "NUM_LABELS = 250\n",
    "BATCH_SIZE = 64\n",
    "LOG_DIR = os.path.join('Logs')\n",
    "\n",
    "tb_callback = tf.keras.callbacks.TensorBoard(log_dir=LOG_DIR)"
   ]
  },
  {
   "cell_type": "markdown",
   "metadata": {},
   "source": [
    "## Modeling"
   ]
  },
  {
   "cell_type": "markdown",
   "metadata": {},
   "source": [
    "### Build the Model"
   ]
  },
  {
   "cell_type": "code",
   "execution_count": 25,
   "metadata": {
    "execution": {
     "iopub.execute_input": "2023-05-12T07:52:35.961219Z",
     "iopub.status.busy": "2023-05-12T07:52:35.960372Z",
     "iopub.status.idle": "2023-05-12T07:52:36.420312Z",
     "shell.execute_reply": "2023-05-12T07:52:36.419360Z",
     "shell.execute_reply.started": "2023-05-12T07:52:35.961183Z"
    }
   },
   "outputs": [
    {
     "name": "stdout",
     "output_type": "stream",
     "text": [
      "Model: \"sequential\"\n",
      "_________________________________________________________________\n",
      " Layer (type)                Output Shape              Param #   \n",
      "=================================================================\n",
      " dense (Dense)               (None, 30, 512)           181760    \n",
      "                                                                 \n",
      " layer_normalization (LayerN  (None, 30, 512)          1024      \n",
      " ormalization)                                                   \n",
      "                                                                 \n",
      " activation (Activation)     (None, 30, 512)           0         \n",
      "                                                                 \n",
      " dropout (Dropout)           (None, 30, 512)           0         \n",
      "                                                                 \n",
      " dense_1 (Dense)             (None, 30, 256)           131328    \n",
      "                                                                 \n",
      " layer_normalization_1 (Laye  (None, 30, 256)          512       \n",
      " rNormalization)                                                 \n",
      "                                                                 \n",
      " activation_1 (Activation)   (None, 30, 256)           0         \n",
      "                                                                 \n",
      " dropout_1 (Dropout)         (None, 30, 256)           0         \n",
      "                                                                 \n",
      " lstm (LSTM)                 (None, 384)               984576    \n",
      "                                                                 \n",
      " dense_2 (Dense)             (None, 250)               96250     \n",
      "                                                                 \n",
      "=================================================================\n",
      "Total params: 1,395,450\n",
      "Trainable params: 1,395,450\n",
      "Non-trainable params: 0\n",
      "_________________________________________________________________\n"
     ]
    }
   ],
   "source": [
    "model = Sequential([\n",
    "    Input(shape=(30, 354)),\n",
    "    Dense(512),\n",
    "    LayerNormalization(),\n",
    "    Activation('relu'),\n",
    "    Dropout(0.1),\n",
    "    Dense(256),\n",
    "    LayerNormalization(),\n",
    "    Activation('relu'),\n",
    "    Dropout(0.1),\n",
    "    LSTM(384),\n",
    "    Dense(250, activation='softmax'),\n",
    "])\n",
    "\n",
    "model.summary()"
   ]
  },
  {
   "cell_type": "markdown",
   "metadata": {},
   "source": [
    "> **Important:** Run this cell below first, if you want to do the training or tuning again to free up memory"
   ]
  },
  {
   "cell_type": "code",
   "execution_count": 28,
   "metadata": {
    "execution": {
     "iopub.execute_input": "2023-05-12T08:25:10.893240Z",
     "iopub.status.busy": "2023-05-12T08:25:10.892878Z",
     "iopub.status.idle": "2023-05-12T08:25:10.913585Z",
     "shell.execute_reply": "2023-05-12T08:25:10.912783Z",
     "shell.execute_reply.started": "2023-05-12T08:25:10.893209Z"
    }
   },
   "outputs": [],
   "source": [
    "# Only this cell\n",
    "\n",
    "tf.keras.backend.clear_session()\n",
    "model.reset_states()"
   ]
  },
  {
   "cell_type": "markdown",
   "metadata": {},
   "source": [
    "### Tune the Learning Rate"
   ]
  },
  {
   "cell_type": "code",
   "execution_count": 9,
   "metadata": {
    "execution": {
     "iopub.execute_input": "2023-05-12T07:13:15.461910Z",
     "iopub.status.busy": "2023-05-12T07:13:15.461620Z",
     "iopub.status.idle": "2023-05-12T07:13:15.466135Z",
     "shell.execute_reply": "2023-05-12T07:13:15.465367Z",
     "shell.execute_reply.started": "2023-05-12T07:13:15.461884Z"
    }
   },
   "outputs": [],
   "source": [
    "lr_schedule = tf.keras.callbacks.LearningRateScheduler(lambda epoch: 1e-8 * 10**(epoch / 20))\n",
    "\n",
    "optimizer = tf.keras.optimizers.Adam()"
   ]
  },
  {
   "cell_type": "code",
   "execution_count": 10,
   "metadata": {
    "execution": {
     "iopub.execute_input": "2023-05-12T07:13:15.467872Z",
     "iopub.status.busy": "2023-05-12T07:13:15.467593Z",
     "iopub.status.idle": "2023-05-12T07:13:15.482219Z",
     "shell.execute_reply": "2023-05-12T07:13:15.481351Z",
     "shell.execute_reply.started": "2023-05-12T07:13:15.467849Z"
    }
   },
   "outputs": [],
   "source": [
    "model.compile(optimizer=optimizer,\n",
    "              loss=tf.keras.losses.CategoricalCrossentropy())"
   ]
  },
  {
   "cell_type": "code",
   "execution_count": 11,
   "metadata": {
    "execution": {
     "iopub.execute_input": "2023-05-12T07:13:15.483523Z",
     "iopub.status.busy": "2023-05-12T07:13:15.483263Z",
     "iopub.status.idle": "2023-05-12T07:34:41.557094Z",
     "shell.execute_reply": "2023-05-12T07:34:41.556142Z",
     "shell.execute_reply.started": "2023-05-12T07:13:15.483500Z"
    }
   },
   "outputs": [
    {
     "name": "stderr",
     "output_type": "stream",
     "text": [
      "2023-05-12 07:13:17.433198: W tensorflow/core/framework/cpu_allocator_impl.cc:82] Allocation of 3210680880 exceeds 10% of free system memory.\n",
      "2023-05-12 07:13:21.265007: W tensorflow/core/framework/cpu_allocator_impl.cc:82] Allocation of 3210680880 exceeds 10% of free system memory.\n"
     ]
    },
    {
     "name": "stdout",
     "output_type": "stream",
     "text": [
      "Epoch 1/100\n",
      "1181/1181 [==============================] - 18s 12ms/step - loss: 5.5415 - val_loss: 5.5399 - lr: 1.0000e-08\n",
      "Epoch 2/100\n",
      "1181/1181 [==============================] - 13s 11ms/step - loss: 5.5413 - val_loss: 5.5397 - lr: 1.1220e-08\n",
      "Epoch 3/100\n",
      "1181/1181 [==============================] - 12s 11ms/step - loss: 5.5412 - val_loss: 5.5396 - lr: 1.2589e-08\n",
      "Epoch 4/100\n",
      "1181/1181 [==============================] - 13s 11ms/step - loss: 5.5412 - val_loss: 5.5395 - lr: 1.4125e-08\n",
      "Epoch 5/100\n",
      "1181/1181 [==============================] - 13s 11ms/step - loss: 5.5408 - val_loss: 5.5393 - lr: 1.5849e-08\n",
      "Epoch 6/100\n",
      "1181/1181 [==============================] - 13s 11ms/step - loss: 5.5407 - val_loss: 5.5392 - lr: 1.7783e-08\n",
      "Epoch 7/100\n",
      "1181/1181 [==============================] - 13s 11ms/step - loss: 5.5406 - val_loss: 5.5390 - lr: 1.9953e-08\n",
      "Epoch 8/100\n",
      "1181/1181 [==============================] - 13s 11ms/step - loss: 5.5404 - val_loss: 5.5388 - lr: 2.2387e-08\n",
      "Epoch 9/100\n",
      "1181/1181 [==============================] - 13s 11ms/step - loss: 5.5400 - val_loss: 5.5385 - lr: 2.5119e-08\n",
      "Epoch 10/100\n",
      "1181/1181 [==============================] - 12s 11ms/step - loss: 5.5397 - val_loss: 5.5383 - lr: 2.8184e-08\n",
      "Epoch 11/100\n",
      "1181/1181 [==============================] - 13s 11ms/step - loss: 5.5396 - val_loss: 5.5380 - lr: 3.1623e-08\n",
      "Epoch 12/100\n",
      "1181/1181 [==============================] - 13s 11ms/step - loss: 5.5393 - val_loss: 5.5377 - lr: 3.5481e-08\n",
      "Epoch 13/100\n",
      "1181/1181 [==============================] - 13s 11ms/step - loss: 5.5388 - val_loss: 5.5374 - lr: 3.9811e-08\n",
      "Epoch 14/100\n",
      "1181/1181 [==============================] - 12s 10ms/step - loss: 5.5386 - val_loss: 5.5370 - lr: 4.4668e-08\n",
      "Epoch 15/100\n",
      "1181/1181 [==============================] - 13s 11ms/step - loss: 5.5383 - val_loss: 5.5366 - lr: 5.0119e-08\n",
      "Epoch 16/100\n",
      "1181/1181 [==============================] - 13s 11ms/step - loss: 5.5378 - val_loss: 5.5362 - lr: 5.6234e-08\n",
      "Epoch 17/100\n",
      "1181/1181 [==============================] - 13s 11ms/step - loss: 5.5371 - val_loss: 5.5357 - lr: 6.3096e-08\n",
      "Epoch 18/100\n",
      "1181/1181 [==============================] - 13s 11ms/step - loss: 5.5368 - val_loss: 5.5352 - lr: 7.0795e-08\n",
      "Epoch 19/100\n",
      "1181/1181 [==============================] - 13s 11ms/step - loss: 5.5360 - val_loss: 5.5346 - lr: 7.9433e-08\n",
      "Epoch 20/100\n",
      "1181/1181 [==============================] - 13s 11ms/step - loss: 5.5354 - val_loss: 5.5340 - lr: 8.9125e-08\n",
      "Epoch 21/100\n",
      "1181/1181 [==============================] - 13s 11ms/step - loss: 5.5349 - val_loss: 5.5334 - lr: 1.0000e-07\n",
      "Epoch 22/100\n",
      "1181/1181 [==============================] - 12s 11ms/step - loss: 5.5341 - val_loss: 5.5327 - lr: 1.1220e-07\n",
      "Epoch 23/100\n",
      "1181/1181 [==============================] - 13s 11ms/step - loss: 5.5335 - val_loss: 5.5320 - lr: 1.2589e-07\n",
      "Epoch 24/100\n",
      "1181/1181 [==============================] - 13s 11ms/step - loss: 5.5328 - val_loss: 5.5312 - lr: 1.4125e-07\n",
      "Epoch 25/100\n",
      "1181/1181 [==============================] - 12s 11ms/step - loss: 5.5317 - val_loss: 5.5304 - lr: 1.5849e-07\n",
      "Epoch 26/100\n",
      "1181/1181 [==============================] - 13s 11ms/step - loss: 5.5308 - val_loss: 5.5296 - lr: 1.7783e-07\n",
      "Epoch 27/100\n",
      "1181/1181 [==============================] - 13s 11ms/step - loss: 5.5300 - val_loss: 5.5287 - lr: 1.9953e-07\n",
      "Epoch 28/100\n",
      "1181/1181 [==============================] - 13s 11ms/step - loss: 5.5291 - val_loss: 5.5278 - lr: 2.2387e-07\n",
      "Epoch 29/100\n",
      "1181/1181 [==============================] - 13s 11ms/step - loss: 5.5281 - val_loss: 5.5269 - lr: 2.5119e-07\n",
      "Epoch 30/100\n",
      "1181/1181 [==============================] - 13s 11ms/step - loss: 5.5271 - val_loss: 5.5259 - lr: 2.8184e-07\n",
      "Epoch 31/100\n",
      "1181/1181 [==============================] - 13s 11ms/step - loss: 5.5258 - val_loss: 5.5250 - lr: 3.1623e-07\n",
      "Epoch 32/100\n",
      "1181/1181 [==============================] - 13s 11ms/step - loss: 5.5252 - val_loss: 5.5240 - lr: 3.5481e-07\n",
      "Epoch 33/100\n",
      "1181/1181 [==============================] - 13s 11ms/step - loss: 5.5239 - val_loss: 5.5230 - lr: 3.9811e-07\n",
      "Epoch 34/100\n",
      "1181/1181 [==============================] - 12s 11ms/step - loss: 5.5229 - val_loss: 5.5221 - lr: 4.4668e-07\n",
      "Epoch 35/100\n",
      "1181/1181 [==============================] - 12s 10ms/step - loss: 5.5218 - val_loss: 5.5211 - lr: 5.0119e-07\n",
      "Epoch 36/100\n",
      "1181/1181 [==============================] - 13s 11ms/step - loss: 5.5207 - val_loss: 5.5201 - lr: 5.6234e-07\n",
      "Epoch 37/100\n",
      "1181/1181 [==============================] - 13s 11ms/step - loss: 5.5198 - val_loss: 5.5192 - lr: 6.3096e-07\n",
      "Epoch 38/100\n",
      "1181/1181 [==============================] - 13s 11ms/step - loss: 5.5185 - val_loss: 5.5182 - lr: 7.0795e-07\n",
      "Epoch 39/100\n",
      "1181/1181 [==============================] - 13s 11ms/step - loss: 5.5178 - val_loss: 5.5172 - lr: 7.9433e-07\n",
      "Epoch 40/100\n",
      "1181/1181 [==============================] - 13s 11ms/step - loss: 5.5164 - val_loss: 5.5161 - lr: 8.9125e-07\n",
      "Epoch 41/100\n",
      "1181/1181 [==============================] - 13s 11ms/step - loss: 5.5152 - val_loss: 5.5150 - lr: 1.0000e-06\n",
      "Epoch 42/100\n",
      "1181/1181 [==============================] - 13s 11ms/step - loss: 5.5142 - val_loss: 5.5139 - lr: 1.1220e-06\n",
      "Epoch 43/100\n",
      "1181/1181 [==============================] - 13s 11ms/step - loss: 5.5130 - val_loss: 5.5127 - lr: 1.2589e-06\n",
      "Epoch 44/100\n",
      "1181/1181 [==============================] - 13s 11ms/step - loss: 5.5114 - val_loss: 5.5112 - lr: 1.4125e-06\n",
      "Epoch 45/100\n",
      "1181/1181 [==============================] - 12s 11ms/step - loss: 5.5099 - val_loss: 5.5095 - lr: 1.5849e-06\n",
      "Epoch 46/100\n",
      "1181/1181 [==============================] - 13s 11ms/step - loss: 5.5080 - val_loss: 5.5074 - lr: 1.7783e-06\n",
      "Epoch 47/100\n",
      "1181/1181 [==============================] - 13s 11ms/step - loss: 5.5054 - val_loss: 5.5046 - lr: 1.9953e-06\n",
      "Epoch 48/100\n",
      "1181/1181 [==============================] - 13s 11ms/step - loss: 5.5022 - val_loss: 5.5002 - lr: 2.2387e-06\n",
      "Epoch 49/100\n",
      "1181/1181 [==============================] - 13s 11ms/step - loss: 5.4969 - val_loss: 5.4936 - lr: 2.5119e-06\n",
      "Epoch 50/100\n",
      "1181/1181 [==============================] - 13s 11ms/step - loss: 5.4878 - val_loss: 5.4799 - lr: 2.8184e-06\n",
      "Epoch 51/100\n",
      "1181/1181 [==============================] - 13s 11ms/step - loss: 5.4678 - val_loss: 5.4481 - lr: 3.1623e-06\n",
      "Epoch 52/100\n",
      "1181/1181 [==============================] - 13s 11ms/step - loss: 5.4175 - val_loss: 5.3756 - lr: 3.5481e-06\n",
      "Epoch 53/100\n",
      "1181/1181 [==============================] - 12s 11ms/step - loss: 5.3404 - val_loss: 5.2943 - lr: 3.9811e-06\n",
      "Epoch 54/100\n",
      "1181/1181 [==============================] - 13s 11ms/step - loss: 5.2603 - val_loss: 5.2065 - lr: 4.4668e-06\n",
      "Epoch 55/100\n",
      "1181/1181 [==============================] - 13s 11ms/step - loss: 5.1767 - val_loss: 5.1163 - lr: 5.0119e-06\n",
      "Epoch 56/100\n",
      "1181/1181 [==============================] - 13s 11ms/step - loss: 5.0933 - val_loss: 5.0276 - lr: 5.6234e-06\n",
      "Epoch 57/100\n",
      "1181/1181 [==============================] - 13s 11ms/step - loss: 5.0077 - val_loss: 4.9431 - lr: 6.3096e-06\n",
      "Epoch 58/100\n",
      "1181/1181 [==============================] - 13s 11ms/step - loss: 4.9261 - val_loss: 4.8654 - lr: 7.0795e-06\n",
      "Epoch 59/100\n",
      "1181/1181 [==============================] - 13s 11ms/step - loss: 4.8483 - val_loss: 4.7931 - lr: 7.9433e-06\n",
      "Epoch 60/100\n",
      "1181/1181 [==============================] - 13s 11ms/step - loss: 4.7734 - val_loss: 4.7177 - lr: 8.9125e-06\n",
      "Epoch 61/100\n",
      "1181/1181 [==============================] - 13s 11ms/step - loss: 4.6980 - val_loss: 4.6417 - lr: 1.0000e-05\n",
      "Epoch 62/100\n",
      "1181/1181 [==============================] - 13s 11ms/step - loss: 4.6227 - val_loss: 4.5686 - lr: 1.1220e-05\n",
      "Epoch 63/100\n",
      "1181/1181 [==============================] - 13s 11ms/step - loss: 4.5402 - val_loss: 4.4867 - lr: 1.2589e-05\n",
      "Epoch 64/100\n",
      "1181/1181 [==============================] - 13s 11ms/step - loss: 4.4316 - val_loss: 4.3576 - lr: 1.4125e-05\n",
      "Epoch 65/100\n",
      "1181/1181 [==============================] - 13s 11ms/step - loss: 4.3050 - val_loss: 4.2186 - lr: 1.5849e-05\n",
      "Epoch 66/100\n",
      "1181/1181 [==============================] - 13s 11ms/step - loss: 4.1553 - val_loss: 4.0506 - lr: 1.7783e-05\n",
      "Epoch 67/100\n",
      "1181/1181 [==============================] - 13s 11ms/step - loss: 4.0012 - val_loss: 3.9125 - lr: 1.9953e-05\n",
      "Epoch 68/100\n",
      "1181/1181 [==============================] - 13s 11ms/step - loss: 3.8472 - val_loss: 3.7554 - lr: 2.2387e-05\n",
      "Epoch 69/100\n",
      "1181/1181 [==============================] - 13s 11ms/step - loss: 3.6929 - val_loss: 3.5972 - lr: 2.5119e-05\n",
      "Epoch 70/100\n",
      "1181/1181 [==============================] - 13s 11ms/step - loss: 3.5444 - val_loss: 3.5043 - lr: 2.8184e-05\n",
      "Epoch 71/100\n",
      "1181/1181 [==============================] - 13s 11ms/step - loss: 3.4105 - val_loss: 3.3572 - lr: 3.1623e-05\n",
      "Epoch 72/100\n",
      "1181/1181 [==============================] - 13s 11ms/step - loss: 3.2848 - val_loss: 3.2967 - lr: 3.5481e-05\n",
      "Epoch 73/100\n",
      "1181/1181 [==============================] - 13s 11ms/step - loss: 3.1593 - val_loss: 3.1437 - lr: 3.9811e-05\n",
      "Epoch 74/100\n",
      "1181/1181 [==============================] - 13s 11ms/step - loss: 3.0376 - val_loss: 3.0821 - lr: 4.4668e-05\n",
      "Epoch 75/100\n",
      "1181/1181 [==============================] - 12s 11ms/step - loss: 2.9224 - val_loss: 2.8855 - lr: 5.0119e-05\n",
      "Epoch 76/100\n",
      "1181/1181 [==============================] - 13s 11ms/step - loss: 2.8057 - val_loss: 2.7825 - lr: 5.6234e-05\n",
      "Epoch 77/100\n",
      "1181/1181 [==============================] - 12s 11ms/step - loss: 2.6979 - val_loss: 2.6698 - lr: 6.3096e-05\n",
      "Epoch 78/100\n",
      "1181/1181 [==============================] - 13s 11ms/step - loss: 2.5832 - val_loss: 2.5835 - lr: 7.0795e-05\n",
      "Epoch 79/100\n",
      "1181/1181 [==============================] - 13s 11ms/step - loss: 2.4750 - val_loss: 2.4769 - lr: 7.9433e-05\n",
      "Epoch 80/100\n",
      "1181/1181 [==============================] - 13s 11ms/step - loss: 2.3793 - val_loss: 2.4330 - lr: 8.9125e-05\n",
      "Epoch 81/100\n",
      "1181/1181 [==============================] - 12s 11ms/step - loss: 2.2833 - val_loss: 2.3614 - lr: 1.0000e-04\n",
      "Epoch 82/100\n",
      "1181/1181 [==============================] - 13s 11ms/step - loss: 2.1829 - val_loss: 2.2098 - lr: 1.1220e-04\n",
      "Epoch 83/100\n",
      "1181/1181 [==============================] - 13s 11ms/step - loss: 2.1160 - val_loss: 2.1288 - lr: 1.2589e-04\n",
      "Epoch 84/100\n",
      "1181/1181 [==============================] - 13s 11ms/step - loss: 2.0256 - val_loss: 2.1970 - lr: 1.4125e-04\n",
      "Epoch 85/100\n",
      "1181/1181 [==============================] - 13s 11ms/step - loss: 1.9615 - val_loss: 2.0282 - lr: 1.5849e-04\n",
      "Epoch 86/100\n",
      "1181/1181 [==============================] - 13s 11ms/step - loss: 1.8823 - val_loss: 2.0336 - lr: 1.7783e-04\n",
      "Epoch 87/100\n",
      "1181/1181 [==============================] - 13s 11ms/step - loss: 1.8301 - val_loss: 1.9811 - lr: 1.9953e-04\n",
      "Epoch 88/100\n",
      "1181/1181 [==============================] - 13s 11ms/step - loss: 1.7909 - val_loss: 1.8810 - lr: 2.2387e-04\n",
      "Epoch 89/100\n",
      "1181/1181 [==============================] - 13s 11ms/step - loss: 1.7229 - val_loss: 1.9386 - lr: 2.5119e-04\n",
      "Epoch 90/100\n",
      "1181/1181 [==============================] - 13s 11ms/step - loss: 1.6872 - val_loss: 1.9499 - lr: 2.8184e-04\n",
      "Epoch 91/100\n",
      "1181/1181 [==============================] - 13s 11ms/step - loss: 1.6445 - val_loss: 1.9066 - lr: 3.1623e-04\n",
      "Epoch 92/100\n",
      "1181/1181 [==============================] - 13s 11ms/step - loss: 1.5914 - val_loss: 1.7689 - lr: 3.5481e-04\n",
      "Epoch 93/100\n",
      "1181/1181 [==============================] - 13s 11ms/step - loss: 1.5717 - val_loss: 1.7605 - lr: 3.9811e-04\n",
      "Epoch 94/100\n",
      "1181/1181 [==============================] - 13s 11ms/step - loss: 1.5415 - val_loss: 1.7264 - lr: 4.4668e-04\n",
      "Epoch 95/100\n",
      "1181/1181 [==============================] - 13s 11ms/step - loss: 1.5029 - val_loss: 1.8038 - lr: 5.0119e-04\n",
      "Epoch 96/100\n",
      "1181/1181 [==============================] - 13s 11ms/step - loss: 1.5034 - val_loss: 1.7432 - lr: 5.6234e-04\n",
      "Epoch 97/100\n",
      "1181/1181 [==============================] - 12s 11ms/step - loss: 1.4723 - val_loss: 2.0848 - lr: 6.3096e-04\n",
      "Epoch 98/100\n",
      "1181/1181 [==============================] - 13s 11ms/step - loss: 1.4568 - val_loss: 1.8356 - lr: 7.0795e-04\n",
      "Epoch 99/100\n",
      "1181/1181 [==============================] - 13s 11ms/step - loss: 1.4474 - val_loss: 1.6165 - lr: 7.9433e-04\n",
      "Epoch 100/100\n",
      "1181/1181 [==============================] - 13s 11ms/step - loss: 1.4506 - val_loss: 1.6388 - lr: 8.9125e-04\n"
     ]
    }
   ],
   "source": [
    "history = model.fit(x_train,\n",
    "                    y_train,\n",
    "                    validation_data=(x_val, y_val),\n",
    "                    epochs = 100, \n",
    "                    batch_size=BATCH_SIZE,\n",
    "                    callbacks=[lr_schedule])"
   ]
  },
  {
   "cell_type": "code",
   "execution_count": 21,
   "metadata": {
    "execution": {
     "iopub.execute_input": "2023-05-12T07:44:54.441727Z",
     "iopub.status.busy": "2023-05-12T07:44:54.441325Z",
     "iopub.status.idle": "2023-05-12T07:44:54.757381Z",
     "shell.execute_reply": "2023-05-12T07:44:54.756581Z",
     "shell.execute_reply.started": "2023-05-12T07:44:54.441694Z"
    }
   },
   "outputs": [
    {
     "data": {
      "text/plain": [
       "(1e-06, 0.001, 0.0, 10.0)"
      ]
     },
     "execution_count": 21,
     "metadata": {},
     "output_type": "execute_result"
    },
    {
     "data": {
      "image/png": "[encoded data removed]",
      "text/plain": [
       "<Figure size 1000x600 with 1 Axes>"
      ]
     },
     "metadata": {},
     "output_type": "display_data"
    }
   ],
   "source": [
    "lrs = 1e-8 * (10 ** (np.arange(100) / 20))\n",
    "\n",
    "plt.figure(figsize=(10, 6))\n",
    "plt.grid(True)\n",
    "\n",
    "plt.semilogx(lrs, history.history[\"loss\"])\n",
    "plt.semilogx(lrs, history.history[\"val_loss\"])\n",
    "\n",
    "plt.tick_params('both', length=10, width=1, which='both')\n",
    "plt.title(\"Learning Rate and Loss History\")\n",
    "plt.xlabel(\"Learning Rate\")\n",
    "plt.ylabel(\"Loss\")\n",
    "\n",
    "plt.axis([1e-6, 1e-3, 0, 10]) #plot boundaries"
   ]
  },
  {
   "cell_type": "markdown",
   "metadata": {},
   "source": [
    "### Train the Model"
   ]
  },
  {
   "cell_type": "code",
   "execution_count": 26,
   "metadata": {
    "execution": {
     "iopub.execute_input": "2023-05-12T07:52:41.352092Z",
     "iopub.status.busy": "2023-05-12T07:52:41.351701Z",
     "iopub.status.idle": "2023-05-12T07:52:41.361982Z",
     "shell.execute_reply": "2023-05-12T07:52:41.361216Z",
     "shell.execute_reply.started": "2023-05-12T07:52:41.352060Z"
    }
   },
   "outputs": [],
   "source": [
    "model.compile(optimizer=tf.keras.optimizers.Adam(learning_rate=1e-4),\n",
    "              loss=tf.keras.losses.CategoricalCrossentropy(),\n",
    "              metrics=['categorical_accuracy'])"
   ]
  },
  {
   "cell_type": "code",
   "execution_count": 27,
   "metadata": {
    "execution": {
     "iopub.execute_input": "2023-05-12T07:52:42.899964Z",
     "iopub.status.busy": "2023-05-12T07:52:42.899586Z",
     "iopub.status.idle": "2023-05-12T08:15:05.445326Z",
     "shell.execute_reply": "2023-05-12T08:15:05.444369Z",
     "shell.execute_reply.started": "2023-05-12T07:52:42.899935Z"
    }
   },
   "outputs": [
    {
     "name": "stderr",
     "output_type": "stream",
     "text": [
      "2023-05-12 07:52:44.824847: W tensorflow/core/framework/cpu_allocator_impl.cc:82] Allocation of 3210680880 exceeds 10% of free system memory.\n",
      "2023-05-12 07:52:48.746827: W tensorflow/core/framework/cpu_allocator_impl.cc:82] Allocation of 3210680880 exceeds 10% of free system memory.\n"
     ]
    },
    {
     "name": "stdout",
     "output_type": "stream",
     "text": [
      "Epoch 1/100\n",
      "1181/1181 [==============================] - 17s 13ms/step - loss: 5.4695 - categorical_accuracy: 0.0071 - val_loss: 5.1465 - val_categorical_accuracy: 0.0145\n",
      "Epoch 2/100\n",
      "1181/1181 [==============================] - 13s 11ms/step - loss: 4.7898 - categorical_accuracy: 0.0375 - val_loss: 4.4833 - val_categorical_accuracy: 0.0654\n",
      "Epoch 3/100\n",
      "1181/1181 [==============================] - 14s 12ms/step - loss: 4.2266 - categorical_accuracy: 0.0985 - val_loss: 3.8653 - val_categorical_accuracy: 0.1482\n",
      "Epoch 4/100\n",
      "1181/1181 [==============================] - 14s 12ms/step - loss: 3.6475 - categorical_accuracy: 0.1849 - val_loss: 3.4622 - val_categorical_accuracy: 0.2115\n",
      "Epoch 5/100\n",
      "1181/1181 [==============================] - 13s 11ms/step - loss: 3.2408 - categorical_accuracy: 0.2585 - val_loss: 3.1525 - val_categorical_accuracy: 0.2694\n",
      "Epoch 6/100\n",
      "1181/1181 [==============================] - 13s 11ms/step - loss: 2.9355 - categorical_accuracy: 0.3143 - val_loss: 2.8889 - val_categorical_accuracy: 0.3297\n",
      "Epoch 7/100\n",
      "1181/1181 [==============================] - 14s 11ms/step - loss: 2.7019 - categorical_accuracy: 0.3627 - val_loss: 2.6673 - val_categorical_accuracy: 0.3670\n",
      "Epoch 8/100\n",
      "1181/1181 [==============================] - 13s 11ms/step - loss: 2.5200 - categorical_accuracy: 0.3990 - val_loss: 2.4957 - val_categorical_accuracy: 0.4068\n",
      "Epoch 9/100\n",
      "1181/1181 [==============================] - 13s 11ms/step - loss: 2.3644 - categorical_accuracy: 0.4317 - val_loss: 2.3938 - val_categorical_accuracy: 0.4243\n",
      "Epoch 10/100\n",
      "1181/1181 [==============================] - 13s 11ms/step - loss: 2.2315 - categorical_accuracy: 0.4597 - val_loss: 2.2606 - val_categorical_accuracy: 0.4527\n",
      "Epoch 11/100\n",
      "1181/1181 [==============================] - 13s 11ms/step - loss: 2.1187 - categorical_accuracy: 0.4862 - val_loss: 2.2018 - val_categorical_accuracy: 0.4729\n",
      "Epoch 12/100\n",
      "1181/1181 [==============================] - 13s 11ms/step - loss: 2.0161 - categorical_accuracy: 0.5074 - val_loss: 2.1582 - val_categorical_accuracy: 0.4750\n",
      "Epoch 13/100\n",
      "1181/1181 [==============================] - 13s 11ms/step - loss: 1.9303 - categorical_accuracy: 0.5260 - val_loss: 2.0663 - val_categorical_accuracy: 0.4980\n",
      "Epoch 14/100\n",
      "1181/1181 [==============================] - 13s 11ms/step - loss: 1.8410 - categorical_accuracy: 0.5460 - val_loss: 1.9585 - val_categorical_accuracy: 0.5233\n",
      "Epoch 15/100\n",
      "1181/1181 [==============================] - 13s 11ms/step - loss: 1.7706 - categorical_accuracy: 0.5634 - val_loss: 1.9134 - val_categorical_accuracy: 0.5364\n",
      "Epoch 16/100\n",
      "1181/1181 [==============================] - 13s 11ms/step - loss: 1.7021 - categorical_accuracy: 0.5782 - val_loss: 1.8721 - val_categorical_accuracy: 0.5440\n",
      "Epoch 17/100\n",
      "1181/1181 [==============================] - 13s 11ms/step - loss: 1.6377 - categorical_accuracy: 0.5925 - val_loss: 1.8469 - val_categorical_accuracy: 0.5483\n",
      "Epoch 18/100\n",
      "1181/1181 [==============================] - 13s 11ms/step - loss: 1.5810 - categorical_accuracy: 0.6077 - val_loss: 1.8194 - val_categorical_accuracy: 0.5537\n",
      "Epoch 19/100\n",
      "1181/1181 [==============================] - 13s 11ms/step - loss: 1.5267 - categorical_accuracy: 0.6183 - val_loss: 1.7530 - val_categorical_accuracy: 0.5685\n",
      "Epoch 20/100\n",
      "1181/1181 [==============================] - 13s 11ms/step - loss: 1.4686 - categorical_accuracy: 0.6334 - val_loss: 1.7786 - val_categorical_accuracy: 0.5595\n",
      "Epoch 21/100\n",
      "1181/1181 [==============================] - 13s 11ms/step - loss: 1.4236 - categorical_accuracy: 0.6424 - val_loss: 1.6913 - val_categorical_accuracy: 0.5833\n",
      "Epoch 22/100\n",
      "1181/1181 [==============================] - 13s 11ms/step - loss: 1.3752 - categorical_accuracy: 0.6556 - val_loss: 1.7273 - val_categorical_accuracy: 0.5744\n",
      "Epoch 23/100\n",
      "1181/1181 [==============================] - 13s 11ms/step - loss: 1.3378 - categorical_accuracy: 0.6612 - val_loss: 1.6902 - val_categorical_accuracy: 0.5781\n",
      "Epoch 24/100\n",
      "1181/1181 [==============================] - 13s 11ms/step - loss: 1.2964 - categorical_accuracy: 0.6732 - val_loss: 1.6319 - val_categorical_accuracy: 0.5949\n",
      "Epoch 25/100\n",
      "1181/1181 [==============================] - 14s 11ms/step - loss: 1.2560 - categorical_accuracy: 0.6819 - val_loss: 1.6728 - val_categorical_accuracy: 0.5802\n",
      "Epoch 26/100\n",
      "1181/1181 [==============================] - 13s 11ms/step - loss: 1.2182 - categorical_accuracy: 0.6931 - val_loss: 1.6630 - val_categorical_accuracy: 0.5851\n",
      "Epoch 27/100\n",
      "1181/1181 [==============================] - 13s 11ms/step - loss: 1.1807 - categorical_accuracy: 0.7014 - val_loss: 1.5962 - val_categorical_accuracy: 0.6035\n",
      "Epoch 28/100\n",
      "1181/1181 [==============================] - 13s 11ms/step - loss: 1.1510 - categorical_accuracy: 0.7081 - val_loss: 1.5702 - val_categorical_accuracy: 0.6116\n",
      "Epoch 29/100\n",
      "1181/1181 [==============================] - 14s 12ms/step - loss: 1.1140 - categorical_accuracy: 0.7173 - val_loss: 1.5661 - val_categorical_accuracy: 0.6148\n",
      "Epoch 30/100\n",
      "1181/1181 [==============================] - 13s 11ms/step - loss: 1.0838 - categorical_accuracy: 0.7243 - val_loss: 1.5613 - val_categorical_accuracy: 0.6121\n",
      "Epoch 31/100\n",
      "1181/1181 [==============================] - 13s 11ms/step - loss: 1.0481 - categorical_accuracy: 0.7329 - val_loss: 1.5548 - val_categorical_accuracy: 0.6134\n",
      "Epoch 32/100\n",
      "1181/1181 [==============================] - 13s 11ms/step - loss: 1.0295 - categorical_accuracy: 0.7381 - val_loss: 1.5410 - val_categorical_accuracy: 0.6186\n",
      "Epoch 33/100\n",
      "1181/1181 [==============================] - 13s 11ms/step - loss: 0.9959 - categorical_accuracy: 0.7477 - val_loss: 1.5358 - val_categorical_accuracy: 0.6190\n",
      "Epoch 34/100\n",
      "1181/1181 [==============================] - 13s 11ms/step - loss: 0.9668 - categorical_accuracy: 0.7537 - val_loss: 1.5277 - val_categorical_accuracy: 0.6225\n",
      "Epoch 35/100\n",
      "1181/1181 [==============================] - 14s 11ms/step - loss: 0.9466 - categorical_accuracy: 0.7586 - val_loss: 1.5586 - val_categorical_accuracy: 0.6172\n",
      "Epoch 36/100\n",
      "1181/1181 [==============================] - 13s 11ms/step - loss: 0.9176 - categorical_accuracy: 0.7674 - val_loss: 1.5346 - val_categorical_accuracy: 0.6298\n",
      "Epoch 37/100\n",
      "1181/1181 [==============================] - 13s 11ms/step - loss: 0.8887 - categorical_accuracy: 0.7731 - val_loss: 1.4918 - val_categorical_accuracy: 0.6312\n",
      "Epoch 38/100\n",
      "1181/1181 [==============================] - 13s 11ms/step - loss: 0.8662 - categorical_accuracy: 0.7793 - val_loss: 1.5093 - val_categorical_accuracy: 0.6288\n",
      "Epoch 39/100\n",
      "1181/1181 [==============================] - 13s 11ms/step - loss: 0.8467 - categorical_accuracy: 0.7850 - val_loss: 1.4990 - val_categorical_accuracy: 0.6268\n",
      "Epoch 40/100\n",
      "1181/1181 [==============================] - 13s 11ms/step - loss: 0.8198 - categorical_accuracy: 0.7896 - val_loss: 1.5511 - val_categorical_accuracy: 0.6200\n",
      "Epoch 41/100\n",
      "1181/1181 [==============================] - 13s 11ms/step - loss: 0.7939 - categorical_accuracy: 0.7978 - val_loss: 1.5509 - val_categorical_accuracy: 0.6249\n",
      "Epoch 42/100\n",
      "1181/1181 [==============================] - 13s 11ms/step - loss: 0.7728 - categorical_accuracy: 0.8021 - val_loss: 1.5381 - val_categorical_accuracy: 0.6250\n",
      "Epoch 43/100\n",
      "1181/1181 [==============================] - 13s 11ms/step - loss: 0.7562 - categorical_accuracy: 0.8060 - val_loss: 1.5312 - val_categorical_accuracy: 0.6249\n",
      "Epoch 44/100\n",
      "1181/1181 [==============================] - 14s 11ms/step - loss: 0.7324 - categorical_accuracy: 0.8122 - val_loss: 1.5188 - val_categorical_accuracy: 0.6338\n",
      "Epoch 45/100\n",
      "1181/1181 [==============================] - 14s 12ms/step - loss: 0.7182 - categorical_accuracy: 0.8162 - val_loss: 1.4812 - val_categorical_accuracy: 0.6405\n",
      "Epoch 46/100\n",
      "1181/1181 [==============================] - 13s 11ms/step - loss: 0.6968 - categorical_accuracy: 0.8217 - val_loss: 1.5332 - val_categorical_accuracy: 0.6292\n",
      "Epoch 47/100\n",
      "1181/1181 [==============================] - 13s 11ms/step - loss: 0.6839 - categorical_accuracy: 0.8246 - val_loss: 1.5486 - val_categorical_accuracy: 0.6249\n",
      "Epoch 48/100\n",
      "1181/1181 [==============================] - 13s 11ms/step - loss: 0.6604 - categorical_accuracy: 0.8311 - val_loss: 1.5218 - val_categorical_accuracy: 0.6398\n",
      "Epoch 49/100\n",
      "1181/1181 [==============================] - 13s 11ms/step - loss: 0.6446 - categorical_accuracy: 0.8350 - val_loss: 1.5171 - val_categorical_accuracy: 0.6365\n",
      "Epoch 50/100\n",
      "1181/1181 [==============================] - 13s 11ms/step - loss: 0.6133 - categorical_accuracy: 0.8454 - val_loss: 1.4881 - val_categorical_accuracy: 0.6441\n",
      "Epoch 51/100\n",
      "1181/1181 [==============================] - 13s 11ms/step - loss: 0.6069 - categorical_accuracy: 0.8452 - val_loss: 1.5230 - val_categorical_accuracy: 0.6387\n",
      "Epoch 52/100\n",
      "1181/1181 [==============================] - 13s 11ms/step - loss: 0.5932 - categorical_accuracy: 0.8495 - val_loss: 1.5426 - val_categorical_accuracy: 0.6326\n",
      "Epoch 53/100\n",
      "1181/1181 [==============================] - 13s 11ms/step - loss: 0.5686 - categorical_accuracy: 0.8568 - val_loss: 1.5237 - val_categorical_accuracy: 0.6413\n",
      "Epoch 54/100\n",
      "1181/1181 [==============================] - 13s 11ms/step - loss: 0.5589 - categorical_accuracy: 0.8581 - val_loss: 1.5414 - val_categorical_accuracy: 0.6369\n",
      "Epoch 55/100\n",
      "1181/1181 [==============================] - 13s 11ms/step - loss: 0.5404 - categorical_accuracy: 0.8643 - val_loss: 1.5207 - val_categorical_accuracy: 0.6424\n",
      "Epoch 56/100\n",
      "1181/1181 [==============================] - 13s 11ms/step - loss: 0.5294 - categorical_accuracy: 0.8642 - val_loss: 1.5394 - val_categorical_accuracy: 0.6393\n",
      "Epoch 57/100\n",
      "1181/1181 [==============================] - 13s 11ms/step - loss: 0.5039 - categorical_accuracy: 0.8733 - val_loss: 1.5939 - val_categorical_accuracy: 0.6319\n",
      "Epoch 58/100\n",
      "1181/1181 [==============================] - 13s 11ms/step - loss: 0.5011 - categorical_accuracy: 0.8730 - val_loss: 1.6063 - val_categorical_accuracy: 0.6271\n",
      "Epoch 59/100\n",
      "1181/1181 [==============================] - 13s 11ms/step - loss: 0.4842 - categorical_accuracy: 0.8770 - val_loss: 1.5688 - val_categorical_accuracy: 0.6323\n",
      "Epoch 60/100\n",
      "1181/1181 [==============================] - 13s 11ms/step - loss: 0.4722 - categorical_accuracy: 0.8811 - val_loss: 1.5564 - val_categorical_accuracy: 0.6400\n",
      "Epoch 61/100\n",
      "1181/1181 [==============================] - 13s 11ms/step - loss: 0.4551 - categorical_accuracy: 0.8853 - val_loss: 1.5649 - val_categorical_accuracy: 0.6406\n",
      "Epoch 62/100\n",
      "1181/1181 [==============================] - 13s 11ms/step - loss: 0.4475 - categorical_accuracy: 0.8889 - val_loss: 1.5545 - val_categorical_accuracy: 0.6421\n",
      "Epoch 63/100\n",
      "1181/1181 [==============================] - 13s 11ms/step - loss: 0.4297 - categorical_accuracy: 0.8919 - val_loss: 1.5670 - val_categorical_accuracy: 0.6409\n",
      "Epoch 64/100\n",
      "1181/1181 [==============================] - 13s 11ms/step - loss: 0.4157 - categorical_accuracy: 0.8968 - val_loss: 1.5570 - val_categorical_accuracy: 0.6453\n",
      "Epoch 65/100\n",
      "1181/1181 [==============================] - 13s 11ms/step - loss: 0.4085 - categorical_accuracy: 0.8976 - val_loss: 1.5942 - val_categorical_accuracy: 0.6376\n",
      "Epoch 66/100\n",
      "1181/1181 [==============================] - 14s 11ms/step - loss: 0.3965 - categorical_accuracy: 0.9014 - val_loss: 1.5957 - val_categorical_accuracy: 0.6358\n",
      "Epoch 67/100\n",
      "1181/1181 [==============================] - 13s 11ms/step - loss: 0.3926 - categorical_accuracy: 0.9015 - val_loss: 1.5842 - val_categorical_accuracy: 0.6381\n",
      "Epoch 68/100\n",
      "1181/1181 [==============================] - 13s 11ms/step - loss: 0.3730 - categorical_accuracy: 0.9081 - val_loss: 1.5952 - val_categorical_accuracy: 0.6414\n",
      "Epoch 69/100\n",
      "1181/1181 [==============================] - 13s 11ms/step - loss: 0.3630 - categorical_accuracy: 0.9103 - val_loss: 1.6283 - val_categorical_accuracy: 0.6370\n",
      "Epoch 70/100\n",
      "1181/1181 [==============================] - 13s 11ms/step - loss: 0.3545 - categorical_accuracy: 0.9124 - val_loss: 1.6576 - val_categorical_accuracy: 0.6288\n",
      "Epoch 71/100\n",
      "1181/1181 [==============================] - 13s 11ms/step - loss: 0.3463 - categorical_accuracy: 0.9153 - val_loss: 1.6271 - val_categorical_accuracy: 0.6359\n",
      "Epoch 72/100\n",
      "1181/1181 [==============================] - 13s 11ms/step - loss: 0.3296 - categorical_accuracy: 0.9197 - val_loss: 1.6183 - val_categorical_accuracy: 0.6360\n",
      "Epoch 73/100\n",
      "1181/1181 [==============================] - 13s 11ms/step - loss: 0.3295 - categorical_accuracy: 0.9185 - val_loss: 1.6570 - val_categorical_accuracy: 0.6371\n",
      "Epoch 74/100\n",
      "1181/1181 [==============================] - 13s 11ms/step - loss: 0.3167 - categorical_accuracy: 0.9223 - val_loss: 1.6163 - val_categorical_accuracy: 0.6479\n",
      "Epoch 75/100\n",
      "1181/1181 [==============================] - 13s 11ms/step - loss: 0.3056 - categorical_accuracy: 0.9253 - val_loss: 1.6299 - val_categorical_accuracy: 0.6441\n",
      "Epoch 76/100\n",
      "1181/1181 [==============================] - 13s 11ms/step - loss: 0.3051 - categorical_accuracy: 0.9245 - val_loss: 1.6896 - val_categorical_accuracy: 0.6340\n",
      "Epoch 77/100\n",
      "1181/1181 [==============================] - 13s 11ms/step - loss: 0.2883 - categorical_accuracy: 0.9308 - val_loss: 1.6729 - val_categorical_accuracy: 0.6390\n",
      "Epoch 78/100\n",
      "1181/1181 [==============================] - 13s 11ms/step - loss: 0.2829 - categorical_accuracy: 0.9308 - val_loss: 1.7108 - val_categorical_accuracy: 0.6252\n",
      "Epoch 79/100\n",
      "1181/1181 [==============================] - 13s 11ms/step - loss: 0.2727 - categorical_accuracy: 0.9344 - val_loss: 1.6813 - val_categorical_accuracy: 0.6384\n",
      "Epoch 80/100\n",
      "1181/1181 [==============================] - 13s 11ms/step - loss: 0.2749 - categorical_accuracy: 0.9332 - val_loss: 1.6922 - val_categorical_accuracy: 0.6402\n",
      "Epoch 81/100\n",
      "1181/1181 [==============================] - 13s 11ms/step - loss: 0.2574 - categorical_accuracy: 0.9387 - val_loss: 1.6864 - val_categorical_accuracy: 0.6419\n",
      "Epoch 82/100\n",
      "1181/1181 [==============================] - 14s 12ms/step - loss: 0.2518 - categorical_accuracy: 0.9394 - val_loss: 1.6954 - val_categorical_accuracy: 0.6403\n",
      "Epoch 83/100\n",
      "1181/1181 [==============================] - 13s 11ms/step - loss: 0.2456 - categorical_accuracy: 0.9406 - val_loss: 1.7547 - val_categorical_accuracy: 0.6325\n",
      "Epoch 84/100\n",
      "1181/1181 [==============================] - 13s 11ms/step - loss: 0.2426 - categorical_accuracy: 0.9425 - val_loss: 1.7874 - val_categorical_accuracy: 0.6213\n",
      "Epoch 85/100\n",
      "1181/1181 [==============================] - 13s 11ms/step - loss: 0.2324 - categorical_accuracy: 0.9445 - val_loss: 1.7283 - val_categorical_accuracy: 0.6351\n",
      "Epoch 86/100\n",
      "1181/1181 [==============================] - 13s 11ms/step - loss: 0.2312 - categorical_accuracy: 0.9449 - val_loss: 1.7130 - val_categorical_accuracy: 0.6396\n",
      "Epoch 87/100\n",
      "1181/1181 [==============================] - 14s 11ms/step - loss: 0.2230 - categorical_accuracy: 0.9473 - val_loss: 1.7122 - val_categorical_accuracy: 0.6448\n",
      "Epoch 88/100\n",
      "1181/1181 [==============================] - 13s 11ms/step - loss: 0.2205 - categorical_accuracy: 0.9474 - val_loss: 1.7377 - val_categorical_accuracy: 0.6427\n",
      "Epoch 89/100\n",
      "1181/1181 [==============================] - 13s 11ms/step - loss: 0.2145 - categorical_accuracy: 0.9487 - val_loss: 1.7629 - val_categorical_accuracy: 0.6375\n",
      "Epoch 90/100\n",
      "1181/1181 [==============================] - 13s 11ms/step - loss: 0.2115 - categorical_accuracy: 0.9495 - val_loss: 1.7437 - val_categorical_accuracy: 0.6367\n",
      "Epoch 91/100\n",
      "1181/1181 [==============================] - 13s 11ms/step - loss: 0.1971 - categorical_accuracy: 0.9538 - val_loss: 1.7984 - val_categorical_accuracy: 0.6293\n",
      "Epoch 92/100\n",
      "1181/1181 [==============================] - 13s 11ms/step - loss: 0.1974 - categorical_accuracy: 0.9533 - val_loss: 1.7858 - val_categorical_accuracy: 0.6354\n",
      "Epoch 93/100\n",
      "1181/1181 [==============================] - 13s 11ms/step - loss: 0.1994 - categorical_accuracy: 0.9523 - val_loss: 1.7514 - val_categorical_accuracy: 0.6405\n",
      "Epoch 94/100\n",
      "1181/1181 [==============================] - 13s 11ms/step - loss: 0.1848 - categorical_accuracy: 0.9567 - val_loss: 1.7580 - val_categorical_accuracy: 0.6400\n",
      "Epoch 95/100\n",
      "1181/1181 [==============================] - 14s 11ms/step - loss: 0.1918 - categorical_accuracy: 0.9548 - val_loss: 1.8333 - val_categorical_accuracy: 0.6289\n",
      "Epoch 96/100\n",
      "1181/1181 [==============================] - 13s 11ms/step - loss: 0.1754 - categorical_accuracy: 0.9597 - val_loss: 1.7812 - val_categorical_accuracy: 0.6415\n",
      "Epoch 97/100\n",
      "1181/1181 [==============================] - 14s 12ms/step - loss: 0.1851 - categorical_accuracy: 0.9558 - val_loss: 1.8025 - val_categorical_accuracy: 0.6361\n",
      "Epoch 98/100\n",
      "1181/1181 [==============================] - 14s 11ms/step - loss: 0.1605 - categorical_accuracy: 0.9642 - val_loss: 1.8423 - val_categorical_accuracy: 0.6322\n",
      "Epoch 99/100\n",
      "1181/1181 [==============================] - 14s 11ms/step - loss: 0.1760 - categorical_accuracy: 0.9580 - val_loss: 1.7671 - val_categorical_accuracy: 0.6456\n",
      "Epoch 100/100\n",
      "1181/1181 [==============================] - 14s 12ms/step - loss: 0.1556 - categorical_accuracy: 0.9646 - val_loss: 1.8308 - val_categorical_accuracy: 0.6338\n"
     ]
    },
    {
     "data": {
      "text/plain": [
       "<keras.callbacks.History at 0x7f4a48a9b670>"
      ]
     },
     "execution_count": 27,
     "metadata": {},
     "output_type": "execute_result"
    }
   ],
   "source": [
    "model.fit(x_train,\n",
    "          y_train,\n",
    "          validation_data=(x_val, y_val),\n",
    "          epochs = 100, \n",
    "          batch_size=BATCH_SIZE,\n",
    "          callbacks=[tb_callback])"
   ]
  },
  {
   "cell_type": "markdown",
   "metadata": {},
   "source": [
    "### Save Model"
   ]
  },
  {
   "cell_type": "code",
   "execution_count": 29,
   "metadata": {
    "execution": {
     "iopub.execute_input": "2023-05-12T08:32:02.494158Z",
     "iopub.status.busy": "2023-05-12T08:32:02.493296Z",
     "iopub.status.idle": "2023-05-12T08:32:07.207590Z",
     "shell.execute_reply": "2023-05-12T08:32:07.206403Z",
     "shell.execute_reply.started": "2023-05-12T08:32:02.494114Z"
    }
   },
   "outputs": [
    {
     "name": "stderr",
     "output_type": "stream",
     "text": [
      "WARNING:absl:Found untraced functions such as lstm_cell_layer_call_fn, lstm_cell_layer_call_and_return_conditional_losses while saving (showing 2 of 2). These functions will not be directly callable after loading.\n"
     ]
    },
    {
     "name": "stdout",
     "output_type": "stream",
     "text": [
      "INFO:tensorflow:Assets written to: saved_model/1/assets\n"
     ]
    },
    {
     "name": "stderr",
     "output_type": "stream",
     "text": [
      "INFO:tensorflow:Assets written to: saved_model/1/assets\n"
     ]
    }
   ],
   "source": [
    "export_dir = 'saved_model'\n",
    "tf.saved_model.save(model, export_dir)"
   ]
  }
 ],
 "metadata": {
  "kernelspec": {
   "display_name": "Python 3 (ipykernel)",
   "language": "python",
   "name": "python3"
  },
  "language_info": {
   "codemirror_mode": {
    "name": "ipython",
    "version": 3
   },
   "file_extension": ".py",
   "mimetype": "text/x-python",
   "name": "python",
   "nbconvert_exporter": "python",
   "pygments_lexer": "ipython3",
   "version": "3.9.16"
  }
 },
 "nbformat": 4,
 "nbformat_minor": 4
}
